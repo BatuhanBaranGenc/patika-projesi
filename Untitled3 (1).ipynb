{
  "metadata": {
    "language_info": {
      "codemirror_mode": {
        "name": "python",
        "version": 3
      },
      "file_extension": ".py",
      "mimetype": "text/x-python",
      "name": "python",
      "nbconvert_exporter": "python",
      "pygments_lexer": "ipython3",
      "version": "3.8"
    },
    "kernelspec": {
      "name": "python",
      "display_name": "Python (Pyodide)",
      "language": "python"
    }
  },
  "nbformat_minor": 4,
  "nbformat": 4,
  "cells": [
    {
      "cell_type": "code",
      "source": "a = [[5,'ahmet',['dog'],2],[[[3]],'cow'],4,5]\nanew=[]\ndef flatten(n):\n    \n    for i in n:\n        if isinstance(i, list):\n            flatten(i)\n        else:\n            anew.append(i)\nflatten(a)\nprint(anew)\n            ",
      "metadata": {
        "trusted": true
      },
      "execution_count": 6,
      "outputs": [
        {
          "name": "stdout",
          "text": "[5, 'ahmet', 'dog', 2, 3, 'cow', 4, 5]\n",
          "output_type": "stream"
        }
      ]
    },
    {
      "cell_type": "code",
      "source": "",
      "metadata": {},
      "execution_count": null,
      "outputs": []
    }
  ]
}